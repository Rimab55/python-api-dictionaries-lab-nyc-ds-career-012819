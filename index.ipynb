{
 "cells": [
  {
   "cell_type": "markdown",
   "metadata": {},
   "source": [
    "# API Exercises"
   ]
  },
  {
   "cell_type": "markdown",
   "metadata": {},
   "source": [
    "Here are two exercises that involve working with APIs and dictionaries.\n",
    "\n",
    "One is using the Open Brewery API found at https://www.openbrewerydb.org/, and the other is using the API for UK Police Data, found at https://data.police.uk/docs/.\n",
    "\n",
    "You can complete them in either order!\n",
    "\n",
    "Remember that you can create new cells with esc + a or b"
   ]
  },
  {
   "cell_type": "markdown",
   "metadata": {},
   "source": [
    "## Breweries"
   ]
  },
  {
   "cell_type": "markdown",
   "metadata": {},
   "source": [
    "### Q1: Load the first page of results with 50 results per page"
   ]
  },
  {
   "cell_type": "code",
   "execution_count": 2,
   "metadata": {},
   "outputs": [
    {
     "data": {
      "text/plain": [
       "[{'id': 2,\n",
       "  'name': 'Avondale Brewing Co',\n",
       "  'brewery_type': 'micro',\n",
       "  'street': '201 41st St S',\n",
       "  'city': 'Birmingham',\n",
       "  'state': 'Alabama',\n",
       "  'postal_code': '35222-1932',\n",
       "  'country': 'United States',\n",
       "  'longitude': '-86.774322',\n",
       "  'latitude': '33.524521',\n",
       "  'phone': '2057775456',\n",
       "  'website_url': 'http://www.avondalebrewing.com',\n",
       "  'updated_at': '2018-08-23T23:19:57.825Z',\n",
       "  'tag_list': []},\n",
       " {'id': 4,\n",
       "  'name': 'Band of Brothers Brewing Company',\n",
       "  'brewery_type': 'micro',\n",
       "  'street': '1605 23rd Ave',\n",
       "  'city': 'Tuscaloosa',\n",
       "  'state': 'Alabama',\n",
       "  'postal_code': '35401-4653',\n",
       "  'country': 'United States',\n",
       "  'longitude': '-87.5621551272424',\n",
       "  'latitude': '33.1984907123707',\n",
       "  'phone': '2052665137',\n",
       "  'website_url': 'http://www.bandofbrosbrewing.com',\n",
       "  'updated_at': '2018-08-23T23:19:59.462Z',\n",
       "  'tag_list': []},\n",
       " {'id': 44,\n",
       "  'name': 'Trim Tab Brewing',\n",
       "  'brewery_type': 'micro',\n",
       "  'street': '2721 5th Ave S',\n",
       "  'city': 'Birmingham',\n",
       "  'state': 'Alabama',\n",
       "  'postal_code': '35233-3401',\n",
       "  'country': 'United States',\n",
       "  'longitude': '-86.7914000624146',\n",
       "  'latitude': '33.5128492349817',\n",
       "  'phone': '2057030536',\n",
       "  'website_url': 'http://www.trimtabbrewing.com',\n",
       "  'updated_at': '2018-08-23T23:20:31.423Z',\n",
       "  'tag_list': []}]"
      ]
     },
     "execution_count": 2,
     "metadata": {},
     "output_type": "execute_result"
    }
   ],
   "source": [
    "import requests\n",
    "url = 'https://api.openbrewerydb.org/breweries?page=1&per_page=50'\n",
    "r = requests.get(url)\n",
    "data = r.json()\n",
    "data[:3]"
   ]
  },
  {
   "cell_type": "markdown",
   "metadata": {},
   "source": [
    "### Q2: This is only the first 50 results.  Get the next 50 and put them together."
   ]
  },
  {
   "cell_type": "code",
   "execution_count": 3,
   "metadata": {},
   "outputs": [
    {
     "data": {
      "text/plain": [
       "100"
      ]
     },
     "execution_count": 3,
     "metadata": {},
     "output_type": "execute_result"
    }
   ],
   "source": [
    "url2 = 'https://api.openbrewerydb.org/breweries?page=2&per_page=50'\n",
    "r2 = requests.get(url2)\n",
    "data2 = r2.json()\n",
    "brews = data + data2\n",
    "brews\n",
    "len(brews)"
   ]
  },
  {
   "cell_type": "markdown",
   "metadata": {},
   "source": [
    "### Q3: How many of these 100 breweries in are in Alaska?"
   ]
  },
  {
   "cell_type": "code",
   "execution_count": 4,
   "metadata": {},
   "outputs": [
    {
     "data": {
      "text/plain": [
       "3"
      ]
     },
     "execution_count": 4,
     "metadata": {},
     "output_type": "execute_result"
    }
   ],
   "source": [
    "count = 0\n",
    "for brew in brews:\n",
    "    if brew['state'] == 'Alaska':\n",
    "        count +=1\n",
    "count    "
   ]
  },
  {
   "cell_type": "markdown",
   "metadata": {},
   "source": [
    "### Q4: Of these 100 breweries, what are the different unique brewery types?"
   ]
  },
  {
   "cell_type": "code",
   "execution_count": 5,
   "metadata": {},
   "outputs": [
    {
     "data": {
      "text/plain": [
       "{'brewpub', 'contract', 'micro', 'planning', 'proprietor', 'regional'}"
      ]
     },
     "execution_count": 5,
     "metadata": {},
     "output_type": "execute_result"
    }
   ],
   "source": [
    "brewery_types = set([brew['brewery_type'] for brew in brews])\n",
    "brewery_types"
   ]
  },
  {
   "cell_type": "markdown",
   "metadata": {},
   "source": [
    "### Q5: What is the cloest brewery to \"Devil's Potion Brewing Company LLC\" ?\n",
    "* Hint 1: Use Euclidian distance w/ longitude and latitude (assume longitude and latitude are a Carteisan coordinate system)\n",
    "* Hint 2: You'll have to ignore the entries with \"none\" for latitude or longitude"
   ]
  },
  {
   "cell_type": "code",
   "execution_count": 6,
   "metadata": {},
   "outputs": [
    {
     "data": {
      "text/plain": [
       "33.1216751"
      ]
     },
     "execution_count": 6,
     "metadata": {},
     "output_type": "execute_result"
    }
   ],
   "source": [
    "# step 1: find Devils's potion Brewery's coordinates\n",
    "devinfo = []\n",
    "for brew in brews:\n",
    "    if brew['name'] == \"Devil's Potion Brewing Company LLC\":\n",
    "        devinfo = brew\n",
    "devinfo \n",
    "lon = float(devinfo['longitude'])\n",
    "lat = float(devinfo['latitude'])\n",
    "lat"
   ]
  },
  {
   "cell_type": "code",
   "execution_count": 7,
   "metadata": {},
   "outputs": [
    {
     "data": {
      "text/plain": [
       "str"
      ]
     },
     "execution_count": 7,
     "metadata": {},
     "output_type": "execute_result"
    }
   ],
   "source": [
    "type(brews[0]['longitude'])"
   ]
  },
  {
   "cell_type": "code",
   "execution_count": 8,
   "metadata": {},
   "outputs": [
    {
     "data": {
      "text/plain": [
       "(['Port Brewing Co / The Lost Abbey'], 0.07051129653338688)"
      ]
     },
     "execution_count": 8,
     "metadata": {},
     "output_type": "execute_result"
    }
   ],
   "source": [
    "# step 2: Dictionary of breweries & distance between Devils'info \n",
    "\n",
    "distances = {}\n",
    "for brew in brews:\n",
    "    if brew['longitude'] == None:\n",
    "        pass\n",
    "    else:\n",
    "        distance = ( ((float(brew['longitude']) - lon)**2) +\n",
    "                     ((float(brew['latitude']) - lat)**2)\n",
    "                   )**0.5\n",
    "        if distance>0:\n",
    "            distances[brew['name']] = distance\n",
    "            \n",
    "#shortest distance besides itself\n",
    "min_dist = min(list(distances.values()))\n",
    "min_dist\n",
    "\n",
    "closest_brew = [k for k,v in distances.items() if v == min_dist]\n",
    "closest_brew, min_dist"
   ]
  },
  {
   "cell_type": "markdown",
   "metadata": {},
   "source": [
    "### Q6: Write a function to find the closest brewery to any other given brewery"
   ]
  },
  {
   "cell_type": "code",
   "execution_count": 9,
   "metadata": {},
   "outputs": [
    {
     "data": {
      "text/plain": [
       "([\"Devil's Potion Brewing Company LLC\"], 0.07051129653338688)"
      ]
     },
     "execution_count": 9,
     "metadata": {},
     "output_type": "execute_result"
    }
   ],
   "source": [
    "def distance_brew(name):\n",
    "    # step 1 - find brewery coordinates with name\n",
    "\n",
    "    for brew in brews:\n",
    "        if brew['name'] == name:\n",
    "            long = float(brew['longitude'])\n",
    "            lati = float(brew['latitude'])\n",
    "    \n",
    "    \n",
    "    #step 2 - find all distances to the brewery\n",
    "    \n",
    "    all_distances = {}\n",
    "    for brew in brews:\n",
    "        if brew['longitude'] == None:\n",
    "            pass\n",
    "        else:\n",
    "            distance = ( ((float(brew['longitude']) - long)**2) +\n",
    "                         ((float(brew['latitude']) - lati)**2)\n",
    "                       )**0.5\n",
    "        if distance>0:\n",
    "            all_distances[brew['name']] = distance\n",
    "    min_distance = min(list(all_distances.values()))\n",
    "    closest = [k for k,v in all_distances.items() if v == min_distance]\n",
    "    return closest, min_distance\n",
    "    \n",
    "distance_brew(\"Port Brewing Co / The Lost Abbey\")"
   ]
  },
  {
   "cell_type": "markdown",
   "metadata": {},
   "source": [
    "### Q7: How would you get the first 10 pages from this API and put them all together using a for loop?"
   ]
  },
  {
   "cell_type": "code",
   "execution_count": 11,
   "metadata": {},
   "outputs": [
    {
     "data": {
      "text/plain": [
       "200"
      ]
     },
     "execution_count": 11,
     "metadata": {},
     "output_type": "execute_result"
    }
   ],
   "source": [
    "data = []\n",
    "for i in range(1,11):\n",
    "    url = 'https://api.openbrewerydb.org/breweries?page=' + str(i) + 'per_page=50'\n",
    "    r = requests.get(url)\n",
    "    data += r.json()\n",
    "len(data)"
   ]
  },
  {
   "cell_type": "markdown",
   "metadata": {},
   "source": [
    "# Crime in the UK"
   ]
  },
  {
   "cell_type": "markdown",
   "metadata": {},
   "source": [
    "### We will be analyzing different crimes reported in the UK as provided by https://data.police.uk/docs/"
   ]
  },
  {
   "cell_type": "markdown",
   "metadata": {},
   "source": [
    "# Exploratory analysis\n",
    "##### 1. How many total crimes were there at latitude : 52.63902 and -1.131321 on November of 2017.\n",
    "Use the street level crimes data, the documentation for the API can be found at https://data.police.uk/docs/method/crime-street/"
   ]
  },
  {
   "cell_type": "code",
   "execution_count": 85,
   "metadata": {},
   "outputs": [
    {
     "data": {
      "text/plain": [
       "{'category': 'anti-social-behaviour',\n",
       " 'location_type': 'Force',\n",
       " 'location': {'latitude': '52.635121',\n",
       "  'street': {'id': 883430, 'name': 'On or near High Street'},\n",
       "  'longitude': '-1.139077'},\n",
       " 'context': '',\n",
       " 'outcome_status': None,\n",
       " 'persistent_id': '',\n",
       " 'id': 61227717,\n",
       " 'location_subtype': '',\n",
       " 'month': '2017-11'}"
      ]
     },
     "execution_count": 85,
     "metadata": {},
     "output_type": "execute_result"
    }
   ],
   "source": [
    "url3 = 'https://data.police.uk/api/crimes-street/all-crime?lat=52.63902&lng=-1.131321&date=2017-11'\n",
    "\n",
    "r3 = requests.get(url3)\n",
    "r3.status_code\n",
    "data3 = r3.json()\n",
    "len(data3)\n",
    "data3[0]"
   ]
  },
  {
   "cell_type": "markdown",
   "metadata": {},
   "source": [
    "#2. We've queried the API once, but it could get annoying to retype the url over and over again, create a function `make_api_request` that enables you to query the API.\n",
    "\n",
    "\n",
    " The parameters for the function should be:\n",
    "* lat (float) : latitude\n",
    "* lng (float) : longitude\n",
    "* date (string): Date in the format YYYY-MM\n",
    "    * default value = `None`\n",
    "    \n",
    "And it should return a json object of \n",
    "\n",
    "for more information on default values check out http://blog.thedigitalcatonline.com/blog/2015/02/11/default-arguments-in-python/"
   ]
  },
  {
   "cell_type": "code",
   "execution_count": 18,
   "metadata": {},
   "outputs": [],
   "source": [
    "def make_api_request(lat,lng,date=None):\n",
    "    if date != None:\n",
    "        link = 'https://data.police.uk/api/crimes-street/all-crime?lat=' + str(lat) +'&lng=' + str(lng) + '&date=' + date\n",
    "    else:\n",
    "        link = 'https://data.police.uk/api/crimes-street/all-crime?lat=' + str(lat) +'&lng=' + str(lng)\n",
    "    resp = requests.get(link)\n",
    "    return resp.json()\n",
    "\n"
   ]
  },
  {
   "cell_type": "markdown",
   "metadata": {},
   "source": [
    "##### 3. Write a function `categories_of_crime` that will determine the count of each type of crime for a given latitude and longitude. This is labelled as 'category' in the records. Your function should call the `make_api_request` function you created.\n",
    "\n",
    "The parameters for the function should be:\n",
    "\n",
    "* lat (float) : latitude\n",
    "* lng (float) : longitude\n",
    "* date (str) default = None\n",
    "\n",
    "The function should return:\n",
    "* a dictionary with the count of each type of crime\n",
    "\n",
    "\n",
    "\n",
    "Once you've created the function, try it with these locations\n",
    "* lat, lng of 51.5017861,-0.1432319   (Buckingham Palace)\n",
    "* lat, lng of 53.480161, -2.245163     (Manchester)"
   ]
  },
  {
   "cell_type": "code",
   "execution_count": 19,
   "metadata": {},
   "outputs": [
    {
     "data": {
      "text/plain": [
       "({'anti-social-behaviour': 686,\n",
       "  'bicycle-theft': 30,\n",
       "  'burglary': 131,\n",
       "  'criminal-damage-arson': 100,\n",
       "  'drugs': 90,\n",
       "  'other-theft': 1249,\n",
       "  'possession-of-weapons': 27,\n",
       "  'public-order': 179,\n",
       "  'robbery': 269,\n",
       "  'shoplifting': 310,\n",
       "  'theft-from-the-person': 1229,\n",
       "  'vehicle-crime': 206,\n",
       "  'violent-crime': 594,\n",
       "  'other-crime': 25},\n",
       " {'anti-social-behaviour': 473,\n",
       "  'bicycle-theft': 25,\n",
       "  'burglary': 78,\n",
       "  'criminal-damage-arson': 108,\n",
       "  'drugs': 67,\n",
       "  'other-theft': 387,\n",
       "  'possession-of-weapons': 19,\n",
       "  'public-order': 214,\n",
       "  'robbery': 108,\n",
       "  'shoplifting': 161,\n",
       "  'theft-from-the-person': 456,\n",
       "  'vehicle-crime': 272,\n",
       "  'violent-crime': 570,\n",
       "  'other-crime': 19})"
      ]
     },
     "execution_count": 19,
     "metadata": {},
     "output_type": "execute_result"
    }
   ],
   "source": [
    "def categories_of_crime(lat,lng,date=None):\n",
    "    crimes = make_api_request(lat,lng,date)\n",
    "    crimes_dict = {}\n",
    "    for crime in crimes:\n",
    "        if crime['category'] in crimes_dict:\n",
    "            crimes_dict[crime['category']] += 1\n",
    "        else:\n",
    "            crimes_dict[crime['category']] = 1\n",
    "    return crimes_dict\n",
    "            \n",
    "categories_of_crime(51.5017861,-0.1432319,date=None), categories_of_crime(53.480161,-2.245163,date=None)"
   ]
  },
  {
   "cell_type": "markdown",
   "metadata": {},
   "source": [
    "**Bonus**: \n",
    "* Write a function that determines the difference between Buckingham Palace and Manchester in terms of the number of crimes in each category.\n",
    "    * In which category is there the largest absolute difference between the category of crime?\n",
    "* Create a histogram depiction of the categories of crime"
   ]
  },
  {
   "cell_type": "code",
   "execution_count": 20,
   "metadata": {},
   "outputs": [],
   "source": [
    "buckingham = (51.5017861,-0.1432319)\n",
    "edinburgh = (55.948811,-3.197982)\n",
    "manchester = (53.480161,-2.245163)"
   ]
  },
  {
   "cell_type": "code",
   "execution_count": 21,
   "metadata": {},
   "outputs": [],
   "source": [
    "def diff(lat,lng,date = None):\n",
    "    crimes = make_api_request(lat,lng,date)\n",
    "    category_diff = {}\n",
    "    for category_diff['category'] \n",
    "            category_dict[crime['category']] +=1\n",
    "        else:\n",
    "            category_dict[crime['category']] = 1\n",
    "    return category_diff"
   ]
  },
  {
   "cell_type": "code",
   "execution_count": 22,
   "metadata": {},
   "outputs": [
    {
     "name": "stdout",
     "output_type": "stream",
     "text": [
      "Buckingham Palace crime categories: {'anti-social-behaviour': 686, 'bicycle-theft': 30, 'burglary': 131, 'criminal-damage-arson': 100, 'drugs': 90, 'other-theft': 1249, 'possession-of-weapons': 27, 'public-order': 179, 'robbery': 269, 'shoplifting': 310, 'theft-from-the-person': 1229, 'vehicle-crime': 206, 'violent-crime': 594, 'other-crime': 25}\n"
     ]
    }
   ],
   "source": [
    "buck_categories = categories_of_crime(buckingham[0],buckingham[1])\n",
    "print('Buckingham Palace crime categories:',buck_categories)"
   ]
  },
  {
   "cell_type": "code",
   "execution_count": 23,
   "metadata": {},
   "outputs": [
    {
     "name": "stdout",
     "output_type": "stream",
     "text": [
      "Edinburgh Castle crime categories {'drugs': 2, 'other-theft': 3, 'shoplifting': 3, 'theft-from-the-person': 1, 'violent-crime': 6, 'other-crime': 1}\n"
     ]
    }
   ],
   "source": [
    "edin_categories = categories_of_crime(edinburgh[0],edinburgh[1])\n",
    "print('Edinburgh Castle crime categories',edin_categories)"
   ]
  },
  {
   "cell_type": "code",
   "execution_count": 24,
   "metadata": {},
   "outputs": [
    {
     "name": "stdout",
     "output_type": "stream",
     "text": [
      "{'anti-social-behaviour': 473, 'bicycle-theft': 25, 'burglary': 78, 'criminal-damage-arson': 108, 'drugs': 67, 'other-theft': 387, 'possession-of-weapons': 19, 'public-order': 214, 'robbery': 108, 'shoplifting': 161, 'theft-from-the-person': 456, 'vehicle-crime': 272, 'violent-crime': 570, 'other-crime': 19}\n"
     ]
    }
   ],
   "source": [
    "manch_categories = categories_of_crime(manchester[0],manchester[1])\n",
    "print(manch_categories)"
   ]
  },
  {
   "cell_type": "markdown",
   "metadata": {},
   "source": [
    "##### 4. Create a function `find_outcome_statuses` that will determine outcome statuses for a given latitude and longitude and date (optional)?\n",
    "Investigate the data to determine where the outcome statuses are located.\n",
    "\n",
    "**NOTE**: You'll notice that some of these crimes do not have crime outcomes. Make these into the category of \"Not Resolved.\"\n",
    "\n",
    "**NOTE 2**: These might take a long time to execute if you do not specify a month\n",
    "\n",
    "**Bonus**: What is the ratio of crimes investigated to those not investigated? Is it higher near London or Manchester?"
   ]
  },
  {
   "cell_type": "code",
   "execution_count": 25,
   "metadata": {},
   "outputs": [],
   "source": [
    "from collections import Counter\n",
    "\n",
    "def find_outcome_statuses(lat,lng,date=None):\n",
    "    outcome_status = []\n",
    "    crimes = make_api_request(lat,lng,date)\n",
    "    for crime in crimes:\n",
    "        if crime['outcome_status']:\n",
    "            outcome_status.append(crime['outcome_status']['category'])\n",
    "        else:\n",
    "            outcome_status.append('Not Resolved')\n",
    "    d = Counter(outcome_status)    \n",
    "    return d\n"
   ]
  },
  {
   "cell_type": "markdown",
   "metadata": {},
   "source": [
    "##### 5. Write a function `month_highest_crimes` that will return the month that had the highest number of crimes for a latitude, longitude and a year.\n",
    "\n",
    "Inputs\n",
    "* lat (float) : latitude\n",
    "* lng (float) : longitude\n",
    "* year (str) : in the format YYYY\n",
    "\n",
    "Output\n",
    "* month with highest crime (int)\n",
    "\n",
    "**Bonus** Make a graph of how the number of crimes changed over time for a year. This will likely require a new function. Is seasonality a factor? Do the type of crimes change over time?"
   ]
  },
  {
   "cell_type": "code",
   "execution_count": null,
   "metadata": {},
   "outputs": [],
   "source": [
    "\n"
   ]
  },
  {
   "cell_type": "markdown",
   "metadata": {},
   "source": [
    "### Bonus Open Ended Questions\n",
    "\n",
    "1. Take a look at the https://data.police.uk/docs/method/stops-street/ API. Is there a correlation between gender and being stopped and searched? How about race and being stopped and searched?"
   ]
  },
  {
   "cell_type": "code",
   "execution_count": null,
   "metadata": {},
   "outputs": [],
   "source": [
    "\n"
   ]
  }
 ],
 "metadata": {
  "kernelspec": {
   "display_name": "Python 3",
   "language": "python",
   "name": "python3"
  },
  "language_info": {
   "codemirror_mode": {
    "name": "ipython",
    "version": 3
   },
   "file_extension": ".py",
   "mimetype": "text/x-python",
   "name": "python",
   "nbconvert_exporter": "python",
   "pygments_lexer": "ipython3",
   "version": "3.6.6"
  }
 },
 "nbformat": 4,
 "nbformat_minor": 2
}
